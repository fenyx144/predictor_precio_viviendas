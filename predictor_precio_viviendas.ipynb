{
  "nbformat": 4,
  "nbformat_minor": 0,
  "metadata": {
    "colab": {
      "provenance": []
    },
    "kernelspec": {
      "name": "python3",
      "display_name": "Python 3"
    },
    "language_info": {
      "name": "python"
    }
  },
  "cells": [
    {
      "cell_type": "code",
      "execution_count": null,
      "metadata": {
        "id": "XrehmChXyB0W"
      },
      "outputs": [],
      "source": [
        "# Importar librerías necesarias\n",
        "import numpy as np\n",
        "import pandas as pd\n",
        "from sklearn.datasets import fetch_california_housing\n",
        "from sklearn.model_selection import train_test_split\n",
        "from sklearn.preprocessing import StandardScaler\n",
        "from sklearn.linear_model import LinearRegression\n",
        "from sklearn.ensemble import RandomForestRegressor\n",
        "from sklearn.metrics import mean_squared_error, r2_score\n",
        "\n",
        "# Cargar el dataset de California Housing\n",
        "data = fetch_california_housing(as_frame=True)\n",
        "df = data.frame\n",
        "\n",
        "# Mostrar información general del dataset\n",
        "print(\"Información del dataset:\")\n",
        "print(df.info())\n",
        "print(\"\\nPrimeras filas del dataset:\")\n",
        "print(df.head())\n",
        "\n",
        "# Dividir datos en características (X) y variable objetivo (y)\n",
        "X = df.drop(columns=[\"MedHouseVal\"])\n",
        "y = df[\"MedHouseVal\"]\n",
        "\n",
        "# Dividir los datos en conjuntos de entrenamiento y prueba\n",
        "X_train, X_test, y_train, y_test = train_test_split(X, y, test_size=0.2, random_state=42)\n",
        "\n",
        "# Escalar los datos para mejorar el rendimiento de los modelos\n",
        "scaler = StandardScaler()\n",
        "X_train_scaled = scaler.fit_transform(X_train)\n",
        "X_test_scaled = scaler.transform(X_test)\n",
        "\n",
        "# Modelo 1: Regresión Lineal\n",
        "lr_model = LinearRegression()\n",
        "lr_model.fit(X_train_scaled, y_train)\n",
        "\n",
        "# Predicciones y evaluación del modelo de Regresión Lineal\n",
        "y_pred_lr = lr_model.predict(X_test_scaled)\n",
        "mse_lr = mean_squared_error(y_test, y_pred_lr)\n",
        "r2_lr = r2_score(y_test, y_pred_lr)\n",
        "\n",
        "print(\"\\nRegresión Lineal:\")\n",
        "print(f\"Mean Squared Error: {mse_lr}\")\n",
        "print(f\"R² Score: {r2_lr}\")\n",
        "\n",
        "# Modelo 2: Random Forest Regressor\n",
        "rf_model = RandomForestRegressor(random_state=42, n_estimators=100)\n",
        "rf_model.fit(X_train, y_train)\n",
        "\n",
        "# Predicciones y evaluación del modelo Random Forest\n",
        "y_pred_rf = rf_model.predict(X_test)\n",
        "mse_rf = mean_squared_error(y_test, y_pred_rf)\n",
        "r2_rf = r2_score(y_test, y_pred_rf)\n",
        "\n",
        "print(\"\\nRandom Forest Regressor:\")\n",
        "print(f\"Mean Squared Error: {mse_rf}\")\n",
        "print(f\"R² Score: {r2_rf}\")\n",
        "\n",
        "# Comparar los resultados\n",
        "print(\"\\nComparación de modelos:\")\n",
        "print(f\"Regresión Lineal -> MSE: {mse_lr:.2f}, R²: {r2_lr:.2f}\")\n",
        "print(f\"Random Forest -> MSE: {mse_rf:.2f}, R²: {r2_rf:.2f}\")\n"
      ]
    }
  ]
}